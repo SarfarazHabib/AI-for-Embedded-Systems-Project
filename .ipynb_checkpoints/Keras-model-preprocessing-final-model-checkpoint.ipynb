{
 "cells": [
  {
   "cell_type": "code",
   "execution_count": null,
   "metadata": {},
   "outputs": [],
   "source": [
    "import keras\n",
    "from keras.datasets import mnist\n",
    "from keras.models import Sequential\n",
    "from keras.layers import Dense, Dropout, Flatten\n",
    "from keras.layers import Conv2D, MaxPooling2D\n",
    "from keras import regularizers\n",
    "from keras.callbacks import ModelCheckpoint\n",
    "import numpy as np\n",
    "import pandas as pd\n",
    "import imageio\n",
    "from keras.models import load_model\n",
    "from keras.preprocessing.image import ImageDataGenerator\n"
   ]
  },
  {
   "cell_type": "code",
   "execution_count": null,
   "metadata": {},
   "outputs": [],
   "source": [
    "batch_size = 128 \n",
    "\n",
    "#num_classes = 10 \n",
    "num_classes = 2 #output classes 2\n",
    "epochs = 12\n",
    "\n",
    "# input image dimensions\n",
    "#img_rows, img_cols = 28, 28 # 64 rows, 64 columns\n",
    "img_rows, img_cols = 64, 64"
   ]
  },
  {
   "cell_type": "code",
   "execution_count": null,
   "metadata": {
    "scrolled": true
   },
   "outputs": [],
   "source": [
    "# the data, split between train and test sets\n",
    "#(x_train, y_train), (x_test, y_test) = mnist.load_data()\n",
    "\n",
    "data = pd.read_csv('malignancy.csv')\n",
    "print(data.head())\n",
    "print(type(data))\n",
    "\n"
   ]
  },
  {
   "cell_type": "code",
   "execution_count": null,
   "metadata": {},
   "outputs": [],
   "source": [
    "a=data['malignancy'].values\n",
    "b=data['benign'].values\n",
    "\n",
    "y= np.array([a , b])\n",
    "print(y)\n",
    "y= np.transpose(y)\n",
    "print(y)\n",
    "print('y_train shape:', y.shape)"
   ]
  },
  {
   "cell_type": "code",
   "execution_count": null,
   "metadata": {},
   "outputs": [],
   "source": [
    "\n",
    "\n",
    "#x_train = x_train.reshape(6691,64,64,1)    \n",
    "\n",
    "im=imageio.mimread('ct_tiles.tif')\n",
    "x = np.array(im) \n",
    "\n",
    "from matplotlib import pyplot as plt\n",
    "plt.imshow(x[6218], interpolation='nearest')\n",
    "plt.show()\n",
    "\n",
    "print(x.shape)\n",
    "x = x.reshape(6691,64,64,1)    \n",
    "\n",
    "\n",
    "\n",
    "\n",
    "#x_train = x_train.reshape(60000,28,28,1)\n",
    "#x_test = x_test.reshape(10000,28,28,1)\n",
    "\n",
    "print('x_train shape:', x.shape)\n",
    "print(x.shape[0], 'train samples')\n",
    "#print(x_test.shape[0], 'test samples')\n",
    "\n",
    "print('a:', a.shape)\n",
    "print('b:', b.shape)\n",
    "#print(x_train.shape[0], 'train samples')\n",
    "\n",
    "# convert class vectors to binary class matrices\n",
    "#y_train = keras.utils.to_categorical(y_train, num_classes)\n",
    "#y_test = keras.utils.to_categorical(y_test, num_classes)\n",
    "\n",
    "#print('y_train shape:', y_train.shape)\n",
    "print(x[1000:].shape)\n",
    "\n",
    "print(y[0:1000].shape)\n",
    "#print(y_test.shape[0], 'test samples')\n",
    "\n",
    "\n",
    "\n",
    "\n"
   ]
  },
  {
   "cell_type": "code",
   "execution_count": null,
   "metadata": {},
   "outputs": [],
   "source": [
    "#Randomly distributing inputs, since they were arranged.\n",
    "num_samples= 6691\n",
    "\n",
    "rand_mask = np.random.choice(num_samples, num_samples, replace=False)\n",
    "x_data=x[rand_mask]\n",
    "y_data=y[rand_mask]\n",
    "print(y_data[0:10])"
   ]
  },
  {
   "cell_type": "code",
   "execution_count": null,
   "metadata": {},
   "outputs": [],
   "source": [
    "#dividing data to Training, Validation and test\n",
    "num_training = 5350\n",
    "num_val = 670\n",
    "num_test = 670\n",
    "\n",
    "training_mask = range(num_training)\n",
    "val_mask = range(num_training,num_training+num_val)\n",
    "test_mask =  range(num_training+num_val,num_training+num_val+num_test)\n",
    "\n",
    "\n",
    "x_train=x_data[training_mask]\n",
    "y_train=y_data[training_mask]\n",
    "\n",
    "\n",
    "x_val=x_data[val_mask]\n",
    "y_val=y_data[val_mask]\n",
    "\n",
    "x_test=x_data[test_mask]\n",
    "y_test=y_data[test_mask]\n"
   ]
  },
  {
   "cell_type": "code",
   "execution_count": null,
   "metadata": {},
   "outputs": [],
   "source": [
    "np.sum(y_train[:,0]==1)\n",
    "x_val[1]"
   ]
  },
  {
   "cell_type": "code",
   "execution_count": null,
   "metadata": {},
   "outputs": [],
   "source": [
    "dev_mask = np.random.choice(num_training, 1000, replace=False)\n",
    "x_dev=x_train[dev_mask]\n",
    "y_dev=y_train[dev_mask]\n",
    "\n",
    "\n",
    "#x_dev=x_dev.reshape(1000,64*64)\n",
    "x_val_dev=x_val[0:100]\n",
    "y_val_dev=y_val[0:100]\n",
    "#x_val_dev=x_val_dev.reshape(100,64*64)\n"
   ]
  },
  {
   "cell_type": "code",
   "execution_count": null,
   "metadata": {},
   "outputs": [],
   "source": [
    "model = Sequential()\n",
    "\n",
    "\n",
    "model.add(Conv2D(64, (5, 5), activation='relu',\n",
    "        input_shape=(64,64,1),use_bias=True ,kernel_regularizer=regularizers.l2(0.01)))\n",
    "\n",
    "model.add(MaxPooling2D(pool_size=(2, 2), strides=None,  data_format=None))\n",
    "\n",
    "model.add(Conv2D(128, (3, 3),  activation='relu',\n",
    "      use_bias=True ,kernel_regularizer=regularizers.l2(0.01)))\n",
    "\n",
    "model.add(MaxPooling2D(pool_size=(2, 2), strides=None, padding='valid', data_format=None))\n",
    "\n",
    "model.add(Conv2D(256, (3, 3),  activation='relu',\n",
    "        padding='same',use_bias=True ,kernel_regularizer=regularizers.l2(0.01)))\n",
    "\n",
    "\n",
    "model.add(MaxPooling2D(pool_size=(2, 2), strides=None, padding='valid', data_format=None))\n",
    "model.add(Flatten())\n",
    "\n",
    "\n",
    "\n",
    "model.add(Dense(512, activation='relu'))\n",
    "model.add(Dropout(0.2))\n",
    "model.add(Dense(num_classes, activation='sigmoid'))\n",
    "model.compile(loss=keras.losses.binary_crossentropy,\n",
    "              optimizer=keras.optimizers.adam(lr=0.005,decay=0.1),\n",
    "              metrics=['binary_accuracy'])\n",
    "\n",
    "model.summary()\n"
   ]
  },
  {
   "cell_type": "code",
   "execution_count": null,
   "metadata": {},
   "outputs": [],
   "source": [
    "checkpointer = ModelCheckpoint(filepath='/tmp/weights.hdf5', verbose=1, save_best_only=True)\n",
    "history=model.fit(x_train, y_train,batch_size=1,epochs=12,verbose=1,validation_data=(x_val, y_val),callbacks=[checkpointer])\n"
   ]
  },
  {
   "cell_type": "code",
   "execution_count": null,
   "metadata": {},
   "outputs": [],
   "source": [
    "model1 = load_model('modelbs1.h5')\n"
   ]
  },
  {
   "cell_type": "code",
   "execution_count": null,
   "metadata": {},
   "outputs": [],
   "source": [
    "model1.summary()"
   ]
  },
  {
   "cell_type": "code",
   "execution_count": null,
   "metadata": {},
   "outputs": [],
   "source": [
    "score = model1.evaluate(x_test, y_test, verbose=0)\n",
    "print('Test loss:', score[0])\n",
    "print('Test accuracy:', score[1])"
   ]
  },
  {
   "cell_type": "code",
   "execution_count": null,
   "metadata": {},
   "outputs": [],
   "source": [
    "model2 = load_model('modelbs1v2.h5')\n",
    "model2.summary()\n"
   ]
  },
  {
   "cell_type": "code",
   "execution_count": null,
   "metadata": {},
   "outputs": [],
   "source": [
    "from keras.layers import Dense, Conv2D, MaxPool2D, Flatten\n",
    "from keras.models import Sequential\n",
    "from keras import layers\n",
    "from keras import callbacks\n",
    "from tensorflow.examples.tutorials.mnist import input_data\n",
    "\n",
    "from kerassurgeon import identify\n",
    "from kerassurgeon.operations import delete_channels\n"
   ]
  },
  {
   "cell_type": "code",
   "execution_count": null,
   "metadata": {},
   "outputs": [],
   "source": [
    "from kerassurgeon import Surgeon\n",
    "from kerassurgeon.operations import delete_channels, delete_layer\n",
    "from kerassurgeon.identify import get_apoz, high_apoz"
   ]
  },
  {
   "cell_type": "code",
   "execution_count": null,
   "metadata": {},
   "outputs": [],
   "source": [
    "del_layer_index = 6\n",
    "del_layer = model2.layers[del_layer_index]\n",
    "apoz = get_apoz(model2, del_layer, x_val)\n",
    "\n",
    "#apoz = get_apoz(model2, del_layer, batch_generator(batch = batch_val, dataset= text_val))\n",
    "#high_apoz_channels = high_apoz(apoz) #this not working"
   ]
  },
  {
   "cell_type": "code",
   "execution_count": null,
   "metadata": {},
   "outputs": [],
   "source": [
    "\n",
    "high_apoz_channels = identify.high_apoz(apoz)\n",
    "model = delete_channels(model2, del_layer, high_apoz_channels)\n"
   ]
  },
  {
   "cell_type": "code",
   "execution_count": null,
   "metadata": {},
   "outputs": [],
   "source": [
    "model.summary()"
   ]
  },
  {
   "cell_type": "code",
   "execution_count": null,
   "metadata": {},
   "outputs": [],
   "source": [
    "model.compile(loss=keras.losses.binary_crossentropy,\n",
    "              optimizer=keras.optimizers.adam(lr=0.009,decay=0.01),\n",
    "              metrics=['binary_accuracy'])"
   ]
  },
  {
   "cell_type": "code",
   "execution_count": null,
   "metadata": {},
   "outputs": [],
   "source": [
    "results = model.fit(x_train, y_train,batch_size=1,epochs=10,verbose=1,validation_data=(x_val, y_val))"
   ]
  },
  {
   "cell_type": "code",
   "execution_count": null,
   "metadata": {},
   "outputs": [],
   "source": [
    "loss = model.evaluate(x_val,y_val,\n",
    "                              batch_size=128,\n",
    "                              verbose=2)\n",
    "print('model loss after pruning: ', loss, '\\n')"
   ]
  },
  {
   "cell_type": "code",
   "execution_count": null,
   "metadata": {},
   "outputs": [],
   "source": [
    "score = model.evaluate(x_test, y_test, verbose=0)\n",
    "print('Test loss:', score[0])\n",
    "print('Test accuracy:', score[1])"
   ]
  },
  {
   "cell_type": "code",
   "execution_count": null,
   "metadata": {},
   "outputs": [],
   "source": []
  }
 ],
 "metadata": {
  "kernelspec": {
   "display_name": "Python 3",
   "language": "python",
   "name": "python3"
  },
  "language_info": {
   "codemirror_mode": {
    "name": "ipython",
    "version": 3
   },
   "file_extension": ".py",
   "mimetype": "text/x-python",
   "name": "python",
   "nbconvert_exporter": "python",
   "pygments_lexer": "ipython3",
   "version": "3.6.9"
  }
 },
 "nbformat": 4,
 "nbformat_minor": 2
}
